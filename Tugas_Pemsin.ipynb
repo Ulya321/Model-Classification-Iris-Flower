{
  "nbformat": 4,
  "nbformat_minor": 0,
  "metadata": {
    "colab": {
      "provenance": [],
      "authorship_tag": "ABX9TyNj0RFo5F/gIXDx6j2p/DBW",
      "include_colab_link": true
    },
    "kernelspec": {
      "name": "python3",
      "display_name": "Python 3"
    },
    "language_info": {
      "name": "python"
    }
  },
  "cells": [
    {
      "cell_type": "markdown",
      "metadata": {
        "id": "view-in-github",
        "colab_type": "text"
      },
      "source": [
        "<a href=\"https://colab.research.google.com/github/Ulya321/Model-Classification-Iris-Flower/blob/main/Tugas_Pemsin.ipynb\" target=\"_parent\"><img src=\"https://colab.research.google.com/assets/colab-badge.svg\" alt=\"Open In Colab\"/></a>"
      ]
    },
    {
      "cell_type": "code",
      "execution_count": 1,
      "metadata": {
        "colab": {
          "base_uri": "https://localhost:8080/"
        },
        "id": "y7CNMZ2XEqTo",
        "outputId": "7e71ce06-4364-4a50-ce4d-d9cc95331a7e"
      },
      "outputs": [
        {
          "output_type": "stream",
          "name": "stdout",
          "text": [
            "Requirement already satisfied: pandas in /usr/local/lib/python3.10/dist-packages (2.0.3)\n",
            "Requirement already satisfied: scikit-learn in /usr/local/lib/python3.10/dist-packages (1.2.2)\n",
            "Requirement already satisfied: python-dateutil>=2.8.2 in /usr/local/lib/python3.10/dist-packages (from pandas) (2.8.2)\n",
            "Requirement already satisfied: pytz>=2020.1 in /usr/local/lib/python3.10/dist-packages (from pandas) (2023.4)\n",
            "Requirement already satisfied: tzdata>=2022.1 in /usr/local/lib/python3.10/dist-packages (from pandas) (2024.1)\n",
            "Requirement already satisfied: numpy>=1.21.0 in /usr/local/lib/python3.10/dist-packages (from pandas) (1.25.2)\n",
            "Requirement already satisfied: scipy>=1.3.2 in /usr/local/lib/python3.10/dist-packages (from scikit-learn) (1.11.4)\n",
            "Requirement already satisfied: joblib>=1.1.1 in /usr/local/lib/python3.10/dist-packages (from scikit-learn) (1.4.2)\n",
            "Requirement already satisfied: threadpoolctl>=2.0.0 in /usr/local/lib/python3.10/dist-packages (from scikit-learn) (3.5.0)\n",
            "Requirement already satisfied: six>=1.5 in /usr/local/lib/python3.10/dist-packages (from python-dateutil>=2.8.2->pandas) (1.16.0)\n"
          ]
        }
      ],
      "source": [
        "!pip install pandas scikit-learn\n"
      ]
    },
    {
      "cell_type": "code",
      "source": [
        "import pandas as pd\n",
        "\n",
        "# Load the training and testing datasets\n",
        "train_df = pd.read_csv('/content/IRIS_Train.csv')\n",
        "test_df = pd.read_csv('/content/IRIS_Test.csv')\n",
        "\n",
        "# Display the first few rows of the datasets\n",
        "train_df.head(), test_df.head()\n"
      ],
      "metadata": {
        "colab": {
          "base_uri": "https://localhost:8080/"
        },
        "id": "In_S95P-FP5e",
        "outputId": "8b90eb30-e570-4425-ab13-269708575ca8"
      },
      "execution_count": 4,
      "outputs": [
        {
          "output_type": "execute_result",
          "data": {
            "text/plain": [
              "(   sepal_length  sepal_width  petal_length  petal_width      species\n",
              " 0           5.1          3.5           1.4          0.2  Iris-setosa\n",
              " 1           4.9          3.0           1.4          0.2  Iris-setosa\n",
              " 2           4.7          3.2           1.3          0.2  Iris-setosa\n",
              " 3           4.6          3.1           1.5          0.2  Iris-setosa\n",
              " 4           5.4          3.9           1.7          0.4  Iris-setosa,\n",
              "    sepal_length  sepal_width  petal_length  petal_width      species\n",
              " 0           5.0          3.6           1.4          0.2  Iris-setosa\n",
              " 1           4.9          3.1           1.5          0.1  Iris-setosa\n",
              " 2           5.8          4.0           1.2          0.2  Iris-setosa\n",
              " 3           5.1          3.8           1.5          0.3  Iris-setosa\n",
              " 4           4.8          3.4           1.9          0.2  Iris-setosa)"
            ]
          },
          "metadata": {},
          "execution_count": 4
        }
      ]
    },
    {
      "cell_type": "code",
      "source": [
        "# Split the datasets into features and labels\n",
        "X_train = train_df.drop(columns=['species'])\n",
        "y_train = train_df['species']\n",
        "\n",
        "X_test = test_df.drop(columns=['species'])\n",
        "y_test = test_df['species']\n",
        "\n",
        "# Display the first few rows of the features and labels\n",
        "X_train.head(), y_train.head(), X_test.head(), y_test.head()\n"
      ],
      "metadata": {
        "colab": {
          "base_uri": "https://localhost:8080/"
        },
        "id": "dc65WOZSK4IQ",
        "outputId": "17c0524b-01dc-404b-c792-ccce3a3f6889"
      },
      "execution_count": 5,
      "outputs": [
        {
          "output_type": "execute_result",
          "data": {
            "text/plain": [
              "(   sepal_length  sepal_width  petal_length  petal_width\n",
              " 0           5.1          3.5           1.4          0.2\n",
              " 1           4.9          3.0           1.4          0.2\n",
              " 2           4.7          3.2           1.3          0.2\n",
              " 3           4.6          3.1           1.5          0.2\n",
              " 4           5.4          3.9           1.7          0.4,\n",
              " 0    Iris-setosa\n",
              " 1    Iris-setosa\n",
              " 2    Iris-setosa\n",
              " 3    Iris-setosa\n",
              " 4    Iris-setosa\n",
              " Name: species, dtype: object,\n",
              "    sepal_length  sepal_width  petal_length  petal_width\n",
              " 0           5.0          3.6           1.4          0.2\n",
              " 1           4.9          3.1           1.5          0.1\n",
              " 2           5.8          4.0           1.2          0.2\n",
              " 3           5.1          3.8           1.5          0.3\n",
              " 4           4.8          3.4           1.9          0.2,\n",
              " 0    Iris-setosa\n",
              " 1    Iris-setosa\n",
              " 2    Iris-setosa\n",
              " 3    Iris-setosa\n",
              " 4    Iris-setosa\n",
              " Name: species, dtype: object)"
            ]
          },
          "metadata": {},
          "execution_count": 5
        }
      ]
    },
    {
      "cell_type": "code",
      "source": [
        "from sklearn.preprocessing import MinMaxScaler\n",
        "\n",
        "# Create a MinMaxScaler instance\n",
        "scaler = MinMaxScaler()\n",
        "\n",
        "# Apply Min-Max Scaling to the training and testing data\n",
        "X_train_scaled = scaler.fit_transform(X_train)\n",
        "X_test_scaled = scaler.transform(X_test)\n",
        "\n",
        "# Convert the scaled data back to DataFrame for consistency\n",
        "X_train_scaled = pd.DataFrame(X_train_scaled, columns=X_train.columns)\n",
        "X_test_scaled = pd.DataFrame(X_test_scaled, columns=X_test.columns)\n",
        "\n",
        "# Display the first few rows of the scaled datasets\n",
        "X_train_scaled.head(), X_test_scaled.head()\n"
      ],
      "metadata": {
        "colab": {
          "base_uri": "https://localhost:8080/"
        },
        "id": "6p2FUmfbLE2G",
        "outputId": "c1df91c7-3c51-4d42-bfa0-2d769eb11dbc"
      },
      "execution_count": 6,
      "outputs": [
        {
          "output_type": "execute_result",
          "data": {
            "text/plain": [
              "(   sepal_length  sepal_width  petal_length  petal_width\n",
              " 0      0.222222     0.625000      0.067797     0.041667\n",
              " 1      0.166667     0.416667      0.067797     0.041667\n",
              " 2      0.111111     0.500000      0.050847     0.041667\n",
              " 3      0.083333     0.458333      0.084746     0.041667\n",
              " 4      0.305556     0.791667      0.118644     0.125000,\n",
              "    sepal_length  sepal_width  petal_length  petal_width\n",
              " 0      0.194444     0.666667      0.067797     0.041667\n",
              " 1      0.166667     0.458333      0.084746     0.000000\n",
              " 2      0.416667     0.833333      0.033898     0.041667\n",
              " 3      0.222222     0.750000      0.084746     0.083333\n",
              " 4      0.138889     0.583333      0.152542     0.041667)"
            ]
          },
          "metadata": {},
          "execution_count": 6
        }
      ]
    },
    {
      "cell_type": "code",
      "source": [
        "from sklearn.tree import DecisionTreeClassifier\n",
        "from sklearn.metrics import confusion_matrix, accuracy_score, precision_score, recall_score, f1_score\n",
        "\n",
        "# Initialize the models\n",
        "model_gini = DecisionTreeClassifier(criterion='gini')\n",
        "model_entropy = DecisionTreeClassifier(criterion='entropy')\n",
        "\n",
        "# Train the models (tanpa normalisasi)\n",
        "model_gini.fit(X_train, y_train)\n",
        "model_entropy.fit(X_train, y_train)\n",
        "\n",
        "# Train the models (dengan normalisasi)\n",
        "model_gini_scaled = DecisionTreeClassifier(criterion='gini')\n",
        "model_entropy_scaled = DecisionTreeClassifier(criterion='entropy')\n",
        "\n",
        "model_gini_scaled.fit(X_train_scaled, y_train)\n",
        "model_entropy_scaled.fit(X_train_scaled, y_train)\n"
      ],
      "metadata": {
        "colab": {
          "base_uri": "https://localhost:8080/",
          "height": 74
        },
        "id": "uuqHe70PLuk-",
        "outputId": "d6b6d3d9-c832-4efd-ee77-8e6572fd4109"
      },
      "execution_count": 7,
      "outputs": [
        {
          "output_type": "execute_result",
          "data": {
            "text/plain": [
              "DecisionTreeClassifier(criterion='entropy')"
            ],
            "text/html": [
              "<style>#sk-container-id-1 {color: black;background-color: white;}#sk-container-id-1 pre{padding: 0;}#sk-container-id-1 div.sk-toggleable {background-color: white;}#sk-container-id-1 label.sk-toggleable__label {cursor: pointer;display: block;width: 100%;margin-bottom: 0;padding: 0.3em;box-sizing: border-box;text-align: center;}#sk-container-id-1 label.sk-toggleable__label-arrow:before {content: \"▸\";float: left;margin-right: 0.25em;color: #696969;}#sk-container-id-1 label.sk-toggleable__label-arrow:hover:before {color: black;}#sk-container-id-1 div.sk-estimator:hover label.sk-toggleable__label-arrow:before {color: black;}#sk-container-id-1 div.sk-toggleable__content {max-height: 0;max-width: 0;overflow: hidden;text-align: left;background-color: #f0f8ff;}#sk-container-id-1 div.sk-toggleable__content pre {margin: 0.2em;color: black;border-radius: 0.25em;background-color: #f0f8ff;}#sk-container-id-1 input.sk-toggleable__control:checked~div.sk-toggleable__content {max-height: 200px;max-width: 100%;overflow: auto;}#sk-container-id-1 input.sk-toggleable__control:checked~label.sk-toggleable__label-arrow:before {content: \"▾\";}#sk-container-id-1 div.sk-estimator input.sk-toggleable__control:checked~label.sk-toggleable__label {background-color: #d4ebff;}#sk-container-id-1 div.sk-label input.sk-toggleable__control:checked~label.sk-toggleable__label {background-color: #d4ebff;}#sk-container-id-1 input.sk-hidden--visually {border: 0;clip: rect(1px 1px 1px 1px);clip: rect(1px, 1px, 1px, 1px);height: 1px;margin: -1px;overflow: hidden;padding: 0;position: absolute;width: 1px;}#sk-container-id-1 div.sk-estimator {font-family: monospace;background-color: #f0f8ff;border: 1px dotted black;border-radius: 0.25em;box-sizing: border-box;margin-bottom: 0.5em;}#sk-container-id-1 div.sk-estimator:hover {background-color: #d4ebff;}#sk-container-id-1 div.sk-parallel-item::after {content: \"\";width: 100%;border-bottom: 1px solid gray;flex-grow: 1;}#sk-container-id-1 div.sk-label:hover label.sk-toggleable__label {background-color: #d4ebff;}#sk-container-id-1 div.sk-serial::before {content: \"\";position: absolute;border-left: 1px solid gray;box-sizing: border-box;top: 0;bottom: 0;left: 50%;z-index: 0;}#sk-container-id-1 div.sk-serial {display: flex;flex-direction: column;align-items: center;background-color: white;padding-right: 0.2em;padding-left: 0.2em;position: relative;}#sk-container-id-1 div.sk-item {position: relative;z-index: 1;}#sk-container-id-1 div.sk-parallel {display: flex;align-items: stretch;justify-content: center;background-color: white;position: relative;}#sk-container-id-1 div.sk-item::before, #sk-container-id-1 div.sk-parallel-item::before {content: \"\";position: absolute;border-left: 1px solid gray;box-sizing: border-box;top: 0;bottom: 0;left: 50%;z-index: -1;}#sk-container-id-1 div.sk-parallel-item {display: flex;flex-direction: column;z-index: 1;position: relative;background-color: white;}#sk-container-id-1 div.sk-parallel-item:first-child::after {align-self: flex-end;width: 50%;}#sk-container-id-1 div.sk-parallel-item:last-child::after {align-self: flex-start;width: 50%;}#sk-container-id-1 div.sk-parallel-item:only-child::after {width: 0;}#sk-container-id-1 div.sk-dashed-wrapped {border: 1px dashed gray;margin: 0 0.4em 0.5em 0.4em;box-sizing: border-box;padding-bottom: 0.4em;background-color: white;}#sk-container-id-1 div.sk-label label {font-family: monospace;font-weight: bold;display: inline-block;line-height: 1.2em;}#sk-container-id-1 div.sk-label-container {text-align: center;}#sk-container-id-1 div.sk-container {/* jupyter's `normalize.less` sets `[hidden] { display: none; }` but bootstrap.min.css set `[hidden] { display: none !important; }` so we also need the `!important` here to be able to override the default hidden behavior on the sphinx rendered scikit-learn.org. See: https://github.com/scikit-learn/scikit-learn/issues/21755 */display: inline-block !important;position: relative;}#sk-container-id-1 div.sk-text-repr-fallback {display: none;}</style><div id=\"sk-container-id-1\" class=\"sk-top-container\"><div class=\"sk-text-repr-fallback\"><pre>DecisionTreeClassifier(criterion=&#x27;entropy&#x27;)</pre><b>In a Jupyter environment, please rerun this cell to show the HTML representation or trust the notebook. <br />On GitHub, the HTML representation is unable to render, please try loading this page with nbviewer.org.</b></div><div class=\"sk-container\" hidden><div class=\"sk-item\"><div class=\"sk-estimator sk-toggleable\"><input class=\"sk-toggleable__control sk-hidden--visually\" id=\"sk-estimator-id-1\" type=\"checkbox\" checked><label for=\"sk-estimator-id-1\" class=\"sk-toggleable__label sk-toggleable__label-arrow\">DecisionTreeClassifier</label><div class=\"sk-toggleable__content\"><pre>DecisionTreeClassifier(criterion=&#x27;entropy&#x27;)</pre></div></div></div></div></div>"
            ]
          },
          "metadata": {},
          "execution_count": 7
        }
      ]
    },
    {
      "cell_type": "code",
      "source": [
        "# Define a function to calculate specificity\n",
        "def specificity_score(y_true, y_pred):\n",
        "    cm = confusion_matrix(y_true, y_pred)\n",
        "    tn = cm[0, 0]\n",
        "    fp = cm[0, 1]\n",
        "    specificity = tn / (tn + fp)\n",
        "    return specificity\n",
        "\n",
        "# Evaluate the models (tanpa normalisasi)\n",
        "y_pred_gini = model_gini.predict(X_test)\n",
        "y_pred_entropy = model_entropy.predict(X_test)\n",
        "\n",
        "# Evaluate the models (dengan normalisasi)\n",
        "y_pred_gini_scaled = model_gini_scaled.predict(X_test_scaled)\n",
        "y_pred_entropy_scaled = model_entropy_scaled.predict(X_test_scaled)\n",
        "\n",
        "# Create a function to print evaluation metrics\n",
        "def print_evaluation_metrics(y_true, y_pred, model_name):\n",
        "    print(f\"Evaluation Metrics for {model_name}:\")\n",
        "    print(f\"Accuracy: {accuracy_score(y_true, y_pred)}\")\n",
        "    print(f\"Precision: {precision_score(y_true, y_pred, average='macro')}\")\n",
        "    print(f\"Recall: {recall_score(y_true, y_pred, average='macro')}\")\n",
        "    print(f\"Specificity: {specificity_score(y_true, y_pred)}\")\n",
        "    print(f\"F1-Score: {f1_score(y_true, y_pred, average='macro')}\")\n",
        "    print(f\"Confusion Matrix:\\n{confusion_matrix(y_true, y_pred)}\\n\")\n",
        "\n",
        "# Print evaluation metrics for all models\n",
        "print_evaluation_metrics(y_test, y_pred_gini, \"Decision Tree (Gini, tanpa normalisasi)\")\n",
        "print_evaluation_metrics(y_test, y_pred_entropy, \"Decision Tree (Entropy, tanpa normalisasi)\")\n",
        "print_evaluation_metrics(y_test, y_pred_gini_scaled, \"Decision Tree (Gini, dengan normalisasi)\")\n",
        "print_evaluation_metrics(y_test, y_pred_entropy_scaled, \"Decision Tree (Entropy, dengan normalisasi)\")\n"
      ],
      "metadata": {
        "colab": {
          "base_uri": "https://localhost:8080/"
        },
        "id": "d8A9ErbQMZpv",
        "outputId": "bcc0ee90-8b69-473a-c689-329f4f7bc8c6"
      },
      "execution_count": 9,
      "outputs": [
        {
          "output_type": "stream",
          "name": "stdout",
          "text": [
            "Evaluation Metrics for Decision Tree (Gini, tanpa normalisasi):\n",
            "Accuracy: 0.9333333333333333\n",
            "Precision: 0.9444444444444445\n",
            "Recall: 0.9333333333333332\n",
            "Specificity: 1.0\n",
            "F1-Score: 0.9326599326599326\n",
            "Confusion Matrix:\n",
            "[[10  0  0]\n",
            " [ 0 10  0]\n",
            " [ 0  2  8]]\n",
            "\n",
            "Evaluation Metrics for Decision Tree (Entropy, tanpa normalisasi):\n",
            "Accuracy: 0.9333333333333333\n",
            "Precision: 0.9444444444444445\n",
            "Recall: 0.9333333333333332\n",
            "Specificity: 1.0\n",
            "F1-Score: 0.9326599326599326\n",
            "Confusion Matrix:\n",
            "[[10  0  0]\n",
            " [ 0 10  0]\n",
            " [ 0  2  8]]\n",
            "\n",
            "Evaluation Metrics for Decision Tree (Gini, dengan normalisasi):\n",
            "Accuracy: 0.9333333333333333\n",
            "Precision: 0.9444444444444445\n",
            "Recall: 0.9333333333333332\n",
            "Specificity: 1.0\n",
            "F1-Score: 0.9326599326599326\n",
            "Confusion Matrix:\n",
            "[[10  0  0]\n",
            " [ 0 10  0]\n",
            " [ 0  2  8]]\n",
            "\n",
            "Evaluation Metrics for Decision Tree (Entropy, dengan normalisasi):\n",
            "Accuracy: 0.9333333333333333\n",
            "Precision: 0.9444444444444445\n",
            "Recall: 0.9333333333333332\n",
            "Specificity: 1.0\n",
            "F1-Score: 0.9326599326599326\n",
            "Confusion Matrix:\n",
            "[[10  0  0]\n",
            " [ 0 10  0]\n",
            " [ 0  2  8]]\n",
            "\n",
            "Evaluation Metrics for Decision Tree (Gini, tanpa normalisasi):\n",
            "Accuracy: 0.9333333333333333\n",
            "Precision: 0.9444444444444445\n",
            "Recall: 0.9333333333333332\n",
            "Specificity: 1.0\n",
            "F1-Score: 0.9326599326599326\n",
            "Confusion Matrix:\n",
            "[[10  0  0]\n",
            " [ 0 10  0]\n",
            " [ 0  2  8]]\n",
            "\n",
            "Evaluation Metrics for Decision Tree (Entropy, tanpa normalisasi):\n",
            "Accuracy: 0.9333333333333333\n",
            "Precision: 0.9444444444444445\n",
            "Recall: 0.9333333333333332\n",
            "Specificity: 1.0\n",
            "F1-Score: 0.9326599326599326\n",
            "Confusion Matrix:\n",
            "[[10  0  0]\n",
            " [ 0 10  0]\n",
            " [ 0  2  8]]\n",
            "\n",
            "Evaluation Metrics for Decision Tree (Gini, dengan normalisasi):\n",
            "Accuracy: 0.9333333333333333\n",
            "Precision: 0.9444444444444445\n",
            "Recall: 0.9333333333333332\n",
            "Specificity: 1.0\n",
            "F1-Score: 0.9326599326599326\n",
            "Confusion Matrix:\n",
            "[[10  0  0]\n",
            " [ 0 10  0]\n",
            " [ 0  2  8]]\n",
            "\n",
            "Evaluation Metrics for Decision Tree (Entropy, dengan normalisasi):\n",
            "Accuracy: 0.9333333333333333\n",
            "Precision: 0.9444444444444445\n",
            "Recall: 0.9333333333333332\n",
            "Specificity: 1.0\n",
            "F1-Score: 0.9326599326599326\n",
            "Confusion Matrix:\n",
            "[[10  0  0]\n",
            " [ 0 10  0]\n",
            " [ 0  2  8]]\n",
            "\n"
          ]
        }
      ]
    },
    {
      "cell_type": "code",
      "source": [
        "import pandas as pd\n",
        "\n",
        "# Load the training and testing datasets\n",
        "train_df = pd.read_csv('/content/IRIS_Train.csv')\n",
        "test_df = pd.read_csv('/content/IRIS_Test.csv')\n",
        "\n",
        "# Display the first few rows of the datasets\n",
        "print(train_df.head())\n",
        "print(test_df.head())\n"
      ],
      "metadata": {
        "colab": {
          "base_uri": "https://localhost:8080/"
        },
        "id": "6NOddoDaieGI",
        "outputId": "10e9e0a2-be4c-40eb-8a3b-e5552e8a63c6"
      },
      "execution_count": 2,
      "outputs": [
        {
          "output_type": "stream",
          "name": "stdout",
          "text": [
            "   sepal_length  sepal_width  petal_length  petal_width      species\n",
            "0           5.1          3.5           1.4          0.2  Iris-setosa\n",
            "1           4.9          3.0           1.4          0.2  Iris-setosa\n",
            "2           4.7          3.2           1.3          0.2  Iris-setosa\n",
            "3           4.6          3.1           1.5          0.2  Iris-setosa\n",
            "4           5.4          3.9           1.7          0.4  Iris-setosa\n",
            "   sepal_length  sepal_width  petal_length  petal_width      species\n",
            "0           5.0          3.6           1.4          0.2  Iris-setosa\n",
            "1           4.9          3.1           1.5          0.1  Iris-setosa\n",
            "2           5.8          4.0           1.2          0.2  Iris-setosa\n",
            "3           5.1          3.8           1.5          0.3  Iris-setosa\n",
            "4           4.8          3.4           1.9          0.2  Iris-setosa\n"
          ]
        }
      ]
    },
    {
      "cell_type": "code",
      "source": [
        "# Split the datasets into features and labels\n",
        "X_train = train_df.drop(columns=['species'])\n",
        "y_train = train_df['species']\n",
        "\n",
        "X_test = test_df.drop(columns=['species'])\n",
        "y_test = test_df['species']\n",
        "\n",
        "# Display the first few rows of the features and labels\n",
        "print(X_train.head(), y_train.head())\n",
        "print(X_test.head(), y_test.head())\n"
      ],
      "metadata": {
        "colab": {
          "base_uri": "https://localhost:8080/"
        },
        "id": "Lrdfx3Epjdpx",
        "outputId": "5f7ac5dc-a8b9-48cc-a50b-c9ce6b2ab35a"
      },
      "execution_count": 3,
      "outputs": [
        {
          "output_type": "stream",
          "name": "stdout",
          "text": [
            "   sepal_length  sepal_width  petal_length  petal_width\n",
            "0           5.1          3.5           1.4          0.2\n",
            "1           4.9          3.0           1.4          0.2\n",
            "2           4.7          3.2           1.3          0.2\n",
            "3           4.6          3.1           1.5          0.2\n",
            "4           5.4          3.9           1.7          0.4 0    Iris-setosa\n",
            "1    Iris-setosa\n",
            "2    Iris-setosa\n",
            "3    Iris-setosa\n",
            "4    Iris-setosa\n",
            "Name: species, dtype: object\n",
            "   sepal_length  sepal_width  petal_length  petal_width\n",
            "0           5.0          3.6           1.4          0.2\n",
            "1           4.9          3.1           1.5          0.1\n",
            "2           5.8          4.0           1.2          0.2\n",
            "3           5.1          3.8           1.5          0.3\n",
            "4           4.8          3.4           1.9          0.2 0    Iris-setosa\n",
            "1    Iris-setosa\n",
            "2    Iris-setosa\n",
            "3    Iris-setosa\n",
            "4    Iris-setosa\n",
            "Name: species, dtype: object\n"
          ]
        }
      ]
    },
    {
      "cell_type": "code",
      "source": [
        "from sklearn.preprocessing import MinMaxScaler\n",
        "\n",
        "# Create a MinMaxScaler instance\n",
        "scaler = MinMaxScaler()\n",
        "\n",
        "# Apply Min-Max Scaling to the training and testing data\n",
        "X_train_scaled = scaler.fit_transform(X_train)\n",
        "X_test_scaled = scaler.transform(X_test)\n",
        "\n",
        "# Convert the scaled data back to DataFrame for consistency\n",
        "X_train_scaled = pd.DataFrame(X_train_scaled, columns=X_train.columns)\n",
        "X_test_scaled = pd.DataFrame(X_test_scaled, columns=X_test.columns)\n",
        "\n",
        "# Display the first few rows of the scaled datasets\n",
        "print(X_train_scaled.head())\n",
        "print(X_test_scaled.head())\n"
      ],
      "metadata": {
        "colab": {
          "base_uri": "https://localhost:8080/"
        },
        "id": "51b16A6Fj4GG",
        "outputId": "978fa93c-08bb-4db9-d425-aa2a698873d0"
      },
      "execution_count": 4,
      "outputs": [
        {
          "output_type": "stream",
          "name": "stdout",
          "text": [
            "   sepal_length  sepal_width  petal_length  petal_width\n",
            "0      0.222222     0.625000      0.067797     0.041667\n",
            "1      0.166667     0.416667      0.067797     0.041667\n",
            "2      0.111111     0.500000      0.050847     0.041667\n",
            "3      0.083333     0.458333      0.084746     0.041667\n",
            "4      0.305556     0.791667      0.118644     0.125000\n",
            "   sepal_length  sepal_width  petal_length  petal_width\n",
            "0      0.194444     0.666667      0.067797     0.041667\n",
            "1      0.166667     0.458333      0.084746     0.000000\n",
            "2      0.416667     0.833333      0.033898     0.041667\n",
            "3      0.222222     0.750000      0.084746     0.083333\n",
            "4      0.138889     0.583333      0.152542     0.041667\n"
          ]
        }
      ]
    },
    {
      "cell_type": "code",
      "source": [
        "from sklearn.neighbors import KNeighborsClassifier\n",
        "from sklearn.metrics import confusion_matrix, accuracy_score, precision_score, recall_score, f1_score\n",
        "\n",
        "# Define K values\n",
        "k_values = [3, 5, 7]\n",
        "\n",
        "# Initialize the models and train them (tanpa normalisasi)\n",
        "knn_models = {k: KNeighborsClassifier(n_neighbors=k) for k in k_values}\n",
        "for k in k_values:\n",
        "    knn_models[k].fit(X_train, y_train)\n",
        "\n",
        "# Initialize the models and train them (dengan normalisasi)\n",
        "knn_models_scaled = {k: KNeighborsClassifier(n_neighbors=k) for k in k_values}\n",
        "for k in k_values:\n",
        "    knn_models_scaled[k].fit(X_train_scaled, y_train)\n"
      ],
      "metadata": {
        "id": "biDojGq5j7p9"
      },
      "execution_count": 5,
      "outputs": []
    },
    {
      "cell_type": "code",
      "source": [
        "# Define a function to calculate specificity\n",
        "def specificity_score(y_true, y_pred):\n",
        "    cm = confusion_matrix(y_true, y_pred)\n",
        "    tn = cm[0, 0]\n",
        "    fp = cm[0, 1]\n",
        "    specificity = tn / (tn + fp)\n",
        "    return specificity\n",
        "\n",
        "# Create a function to print evaluation metrics\n",
        "def print_evaluation_metrics(y_true, y_pred, model_name):\n",
        "    print(f\"Evaluation Metrics for {model_name}:\")\n",
        "    print(f\"Accuracy: {accuracy_score(y_true, y_pred)}\")\n",
        "    print(f\"Precision: {precision_score(y_true, y_pred, average='macro')}\")\n",
        "    print(f\"Recall: {recall_score(y_true, y_pred, average='macro')}\")\n",
        "    print(f\"Specificity: {specificity_score(y_true, y_pred)}\")\n",
        "    print(f\"F1-Score: {f1_score(y_true, y_pred, average='macro')}\")\n",
        "    print(f\"Confusion Matrix:\\n{confusion_matrix(y_true, y_pred)}\\n\")\n",
        "\n",
        "# Evaluate the models (tanpa normalisasi)\n",
        "for k in k_values:\n",
        "    y_pred = knn_models[k].predict(X_test)\n",
        "    print_evaluation_metrics(y_test, y_pred, f\"KNN (k={k}, tanpa normalisasi)\")\n",
        "\n",
        "# Evaluate the models (dengan normalisasi)\n",
        "for k in k_values:\n",
        "    y_pred = knn_models_scaled[k].predict(X_test_scaled)\n",
        "    print_evaluation_metrics(y_test, y_pred, f\"KNN (k={k}, dengan normalisasi)\")\n"
      ],
      "metadata": {
        "colab": {
          "base_uri": "https://localhost:8080/"
        },
        "id": "G0GlLxnlkArt",
        "outputId": "4993faf5-2919-4a36-b4b5-92139f15410e"
      },
      "execution_count": 6,
      "outputs": [
        {
          "output_type": "stream",
          "name": "stdout",
          "text": [
            "Evaluation Metrics for KNN (k=3, tanpa normalisasi):\n",
            "Accuracy: 0.9666666666666667\n",
            "Precision: 0.9696969696969697\n",
            "Recall: 0.9666666666666667\n",
            "Specificity: 1.0\n",
            "F1-Score: 0.9665831244778613\n",
            "Confusion Matrix:\n",
            "[[10  0  0]\n",
            " [ 0 10  0]\n",
            " [ 0  1  9]]\n",
            "\n",
            "Evaluation Metrics for KNN (k=5, tanpa normalisasi):\n",
            "Accuracy: 0.9666666666666667\n",
            "Precision: 0.9696969696969697\n",
            "Recall: 0.9666666666666667\n",
            "Specificity: 1.0\n",
            "F1-Score: 0.9665831244778613\n",
            "Confusion Matrix:\n",
            "[[10  0  0]\n",
            " [ 0 10  0]\n",
            " [ 0  1  9]]\n",
            "\n",
            "Evaluation Metrics for KNN (k=7, tanpa normalisasi):\n",
            "Accuracy: 1.0\n",
            "Precision: 1.0\n",
            "Recall: 1.0\n",
            "Specificity: 1.0\n",
            "F1-Score: 1.0\n",
            "Confusion Matrix:\n",
            "[[10  0  0]\n",
            " [ 0 10  0]\n",
            " [ 0  0 10]]\n",
            "\n",
            "Evaluation Metrics for KNN (k=3, dengan normalisasi):\n",
            "Accuracy: 0.9333333333333333\n",
            "Precision: 0.9444444444444445\n",
            "Recall: 0.9333333333333332\n",
            "Specificity: 1.0\n",
            "F1-Score: 0.9326599326599326\n",
            "Confusion Matrix:\n",
            "[[10  0  0]\n",
            " [ 0 10  0]\n",
            " [ 0  2  8]]\n",
            "\n",
            "Evaluation Metrics for KNN (k=5, dengan normalisasi):\n",
            "Accuracy: 0.9333333333333333\n",
            "Precision: 0.9444444444444445\n",
            "Recall: 0.9333333333333332\n",
            "Specificity: 1.0\n",
            "F1-Score: 0.9326599326599326\n",
            "Confusion Matrix:\n",
            "[[10  0  0]\n",
            " [ 0 10  0]\n",
            " [ 0  2  8]]\n",
            "\n",
            "Evaluation Metrics for KNN (k=7, dengan normalisasi):\n",
            "Accuracy: 0.9333333333333333\n",
            "Precision: 0.9444444444444445\n",
            "Recall: 0.9333333333333332\n",
            "Specificity: 1.0\n",
            "F1-Score: 0.9326599326599326\n",
            "Confusion Matrix:\n",
            "[[10  0  0]\n",
            " [ 0 10  0]\n",
            " [ 0  2  8]]\n",
            "\n"
          ]
        }
      ]
    },
    {
      "cell_type": "code",
      "source": [
        "from sklearn.naive_bayes import GaussianNB\n",
        "from sklearn.metrics import confusion_matrix, accuracy_score, precision_score, recall_score, f1_score\n",
        "\n",
        "# Initialize the models\n",
        "nb_model = GaussianNB()\n",
        "nb_model_scaled = GaussianNB()\n",
        "\n",
        "# Train the models (tanpa normalisasi)\n",
        "nb_model.fit(X_train, y_train)\n",
        "\n",
        "# Train the models (dengan normalisasi)\n",
        "nb_model_scaled.fit(X_train_scaled, y_train)\n"
      ],
      "metadata": {
        "colab": {
          "base_uri": "https://localhost:8080/",
          "height": 74
        },
        "id": "7WP2PJIckSeP",
        "outputId": "7af1b953-c3d4-403e-a9a0-56948beb9b5a"
      },
      "execution_count": 7,
      "outputs": [
        {
          "output_type": "execute_result",
          "data": {
            "text/plain": [
              "GaussianNB()"
            ],
            "text/html": [
              "<style>#sk-container-id-1 {color: black;background-color: white;}#sk-container-id-1 pre{padding: 0;}#sk-container-id-1 div.sk-toggleable {background-color: white;}#sk-container-id-1 label.sk-toggleable__label {cursor: pointer;display: block;width: 100%;margin-bottom: 0;padding: 0.3em;box-sizing: border-box;text-align: center;}#sk-container-id-1 label.sk-toggleable__label-arrow:before {content: \"▸\";float: left;margin-right: 0.25em;color: #696969;}#sk-container-id-1 label.sk-toggleable__label-arrow:hover:before {color: black;}#sk-container-id-1 div.sk-estimator:hover label.sk-toggleable__label-arrow:before {color: black;}#sk-container-id-1 div.sk-toggleable__content {max-height: 0;max-width: 0;overflow: hidden;text-align: left;background-color: #f0f8ff;}#sk-container-id-1 div.sk-toggleable__content pre {margin: 0.2em;color: black;border-radius: 0.25em;background-color: #f0f8ff;}#sk-container-id-1 input.sk-toggleable__control:checked~div.sk-toggleable__content {max-height: 200px;max-width: 100%;overflow: auto;}#sk-container-id-1 input.sk-toggleable__control:checked~label.sk-toggleable__label-arrow:before {content: \"▾\";}#sk-container-id-1 div.sk-estimator input.sk-toggleable__control:checked~label.sk-toggleable__label {background-color: #d4ebff;}#sk-container-id-1 div.sk-label input.sk-toggleable__control:checked~label.sk-toggleable__label {background-color: #d4ebff;}#sk-container-id-1 input.sk-hidden--visually {border: 0;clip: rect(1px 1px 1px 1px);clip: rect(1px, 1px, 1px, 1px);height: 1px;margin: -1px;overflow: hidden;padding: 0;position: absolute;width: 1px;}#sk-container-id-1 div.sk-estimator {font-family: monospace;background-color: #f0f8ff;border: 1px dotted black;border-radius: 0.25em;box-sizing: border-box;margin-bottom: 0.5em;}#sk-container-id-1 div.sk-estimator:hover {background-color: #d4ebff;}#sk-container-id-1 div.sk-parallel-item::after {content: \"\";width: 100%;border-bottom: 1px solid gray;flex-grow: 1;}#sk-container-id-1 div.sk-label:hover label.sk-toggleable__label {background-color: #d4ebff;}#sk-container-id-1 div.sk-serial::before {content: \"\";position: absolute;border-left: 1px solid gray;box-sizing: border-box;top: 0;bottom: 0;left: 50%;z-index: 0;}#sk-container-id-1 div.sk-serial {display: flex;flex-direction: column;align-items: center;background-color: white;padding-right: 0.2em;padding-left: 0.2em;position: relative;}#sk-container-id-1 div.sk-item {position: relative;z-index: 1;}#sk-container-id-1 div.sk-parallel {display: flex;align-items: stretch;justify-content: center;background-color: white;position: relative;}#sk-container-id-1 div.sk-item::before, #sk-container-id-1 div.sk-parallel-item::before {content: \"\";position: absolute;border-left: 1px solid gray;box-sizing: border-box;top: 0;bottom: 0;left: 50%;z-index: -1;}#sk-container-id-1 div.sk-parallel-item {display: flex;flex-direction: column;z-index: 1;position: relative;background-color: white;}#sk-container-id-1 div.sk-parallel-item:first-child::after {align-self: flex-end;width: 50%;}#sk-container-id-1 div.sk-parallel-item:last-child::after {align-self: flex-start;width: 50%;}#sk-container-id-1 div.sk-parallel-item:only-child::after {width: 0;}#sk-container-id-1 div.sk-dashed-wrapped {border: 1px dashed gray;margin: 0 0.4em 0.5em 0.4em;box-sizing: border-box;padding-bottom: 0.4em;background-color: white;}#sk-container-id-1 div.sk-label label {font-family: monospace;font-weight: bold;display: inline-block;line-height: 1.2em;}#sk-container-id-1 div.sk-label-container {text-align: center;}#sk-container-id-1 div.sk-container {/* jupyter's `normalize.less` sets `[hidden] { display: none; }` but bootstrap.min.css set `[hidden] { display: none !important; }` so we also need the `!important` here to be able to override the default hidden behavior on the sphinx rendered scikit-learn.org. See: https://github.com/scikit-learn/scikit-learn/issues/21755 */display: inline-block !important;position: relative;}#sk-container-id-1 div.sk-text-repr-fallback {display: none;}</style><div id=\"sk-container-id-1\" class=\"sk-top-container\"><div class=\"sk-text-repr-fallback\"><pre>GaussianNB()</pre><b>In a Jupyter environment, please rerun this cell to show the HTML representation or trust the notebook. <br />On GitHub, the HTML representation is unable to render, please try loading this page with nbviewer.org.</b></div><div class=\"sk-container\" hidden><div class=\"sk-item\"><div class=\"sk-estimator sk-toggleable\"><input class=\"sk-toggleable__control sk-hidden--visually\" id=\"sk-estimator-id-1\" type=\"checkbox\" checked><label for=\"sk-estimator-id-1\" class=\"sk-toggleable__label sk-toggleable__label-arrow\">GaussianNB</label><div class=\"sk-toggleable__content\"><pre>GaussianNB()</pre></div></div></div></div></div>"
            ]
          },
          "metadata": {},
          "execution_count": 7
        }
      ]
    },
    {
      "cell_type": "code",
      "source": [
        "# Define a function to calculate specificity\n",
        "def specificity_score(y_true, y_pred):\n",
        "    cm = confusion_matrix(y_true, y_pred)\n",
        "    tn = cm[0, 0]\n",
        "    fp = cm[0, 1]\n",
        "    specificity = tn / (tn + fp)\n",
        "    return specificity\n",
        "\n",
        "# Create a function to print evaluation metrics\n",
        "def print_evaluation_metrics(y_true, y_pred, model_name):\n",
        "    print(f\"Evaluation Metrics for {model_name}:\")\n",
        "    print(f\"Accuracy: {accuracy_score(y_true, y_pred)}\")\n",
        "    print(f\"Precision: {precision_score(y_true, y_pred, average='macro')}\")\n",
        "    print(f\"Recall: {recall_score(y_true, y_pred, average='macro')}\")\n",
        "    print(f\"Specificity: {specificity_score(y_true, y_pred)}\")\n",
        "    print(f\"F1-Score: {f1_score(y_true, y_pred, average='macro')}\")\n",
        "    print(f\"Confusion Matrix:\\n{confusion_matrix(y_true, y_pred)}\\n\")\n",
        "\n",
        "# Evaluate the models (tanpa normalisasi)\n",
        "y_pred_nb = nb_model.predict(X_test)\n",
        "print_evaluation_metrics(y_test, y_pred_nb, \"Naive Bayes (tanpa normalisasi)\")\n",
        "\n",
        "# Evaluate the models (dengan normalisasi)\n",
        "y_pred_nb_scaled = nb_model_scaled.predict(X_test_scaled)\n",
        "print_evaluation_metrics(y_test, y_pred_nb_scaled, \"Naive Bayes (dengan normalisasi)\")\n"
      ],
      "metadata": {
        "colab": {
          "base_uri": "https://localhost:8080/"
        },
        "id": "gQWSiSHCkfSu",
        "outputId": "fb86006d-f118-46e4-f418-9d1b09e71274"
      },
      "execution_count": 8,
      "outputs": [
        {
          "output_type": "stream",
          "name": "stdout",
          "text": [
            "Evaluation Metrics for Naive Bayes (tanpa normalisasi):\n",
            "Accuracy: 0.9333333333333333\n",
            "Precision: 0.9444444444444445\n",
            "Recall: 0.9333333333333332\n",
            "Specificity: 1.0\n",
            "F1-Score: 0.9326599326599326\n",
            "Confusion Matrix:\n",
            "[[10  0  0]\n",
            " [ 0 10  0]\n",
            " [ 0  2  8]]\n",
            "\n",
            "Evaluation Metrics for Naive Bayes (dengan normalisasi):\n",
            "Accuracy: 0.9333333333333333\n",
            "Precision: 0.9444444444444445\n",
            "Recall: 0.9333333333333332\n",
            "Specificity: 1.0\n",
            "F1-Score: 0.9326599326599326\n",
            "Confusion Matrix:\n",
            "[[10  0  0]\n",
            " [ 0 10  0]\n",
            " [ 0  2  8]]\n",
            "\n"
          ]
        }
      ]
    },
    {
      "cell_type": "code",
      "source": [],
      "metadata": {
        "id": "jin_-l23kq3M"
      },
      "execution_count": null,
      "outputs": []
    }
  ]
}